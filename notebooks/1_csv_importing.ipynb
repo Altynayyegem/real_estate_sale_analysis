{
  "metadata": {
    "kernelspec": {
      "name": "python",
      "display_name": "Python (Pyodide)",
      "language": "python"
    },
    "language_info": {
      "codemirror_mode": {
        "name": "python",
        "version": 3
      },
      "file_extension": ".py",
      "mimetype": "text/x-python",
      "name": "python",
      "nbconvert_exporter": "python",
      "pygments_lexer": "ipython3",
      "version": "3.8"
    }
  },
  "nbformat_minor": 5,
  "nbformat": 4,
  "cells": [
    {
      "id": "656e1a46-0043-464f-b4b5-52ea78c8aa02",
      "cell_type": "code",
      "source": "#Importing Data\n\nimport pandas as pd\nimport numpy as np\ndf=pd.read_csv('Real_Estate_Sales_2001-2022_GL.csv')\ndf.head()",
      "metadata": {
        "trusted": true
      },
      "outputs": [
        {
          "name": "stderr",
          "output_type": "stream",
          "text": "<ipython-input-1-4e935b7fce9f>:5: DtypeWarning: Columns (8,9,10,11,12) have mixed types. Specify dtype option on import or set low_memory=False.\n  df=pd.read_csv('Real_Estate_Sales_2001-2022_GL.csv')\n"
        },
        {
          "execution_count": 1,
          "output_type": "execute_result",
          "data": {
            "text/plain": "   Serial Number  List Year Date Recorded     Town          Address  \\\n0        2020177       2020    04/14/2021  Ansonia    323 BEAVER ST   \n1        2020225       2020    05/26/2021  Ansonia   152 JACKSON ST   \n2        2020348       2020    09/13/2021  Ansonia  230 WAKELEE AVE   \n3        2020090       2020    12/14/2020  Ansonia      57 PLATT ST   \n4         200500       2020    09/07/2021     Avon     245 NEW ROAD   \n\n   Assessed Value  Sale Amount  Sales Ratio Property Type Residential Type  \\\n0        133000.0     248400.0       0.5354   Residential    Single Family   \n1        110500.0     239900.0       0.4606   Residential     Three Family   \n2        150500.0     325000.0       0.4630    Commercial              NaN   \n3        127400.0     202500.0       0.6291   Residential       Two Family   \n4        217640.0     400000.0       0.5441   Residential    Single Family   \n\n  Non Use Code Assessor Remarks OPM remarks                    Location  \n0          NaN              NaN         NaN  POINT (-73.06822 41.35014)  \n1          NaN              NaN         NaN                         NaN  \n2          NaN              NaN         NaN                         NaN  \n3          NaN              NaN         NaN                         NaN  \n4          NaN              NaN         NaN                         NaN  ",
            "text/html": "<div>\n<style scoped>\n    .dataframe tbody tr th:only-of-type {\n        vertical-align: middle;\n    }\n\n    .dataframe tbody tr th {\n        vertical-align: top;\n    }\n\n    .dataframe thead th {\n        text-align: right;\n    }\n</style>\n<table border=\"1\" class=\"dataframe\">\n  <thead>\n    <tr style=\"text-align: right;\">\n      <th></th>\n      <th>Serial Number</th>\n      <th>List Year</th>\n      <th>Date Recorded</th>\n      <th>Town</th>\n      <th>Address</th>\n      <th>Assessed Value</th>\n      <th>Sale Amount</th>\n      <th>Sales Ratio</th>\n      <th>Property Type</th>\n      <th>Residential Type</th>\n      <th>Non Use Code</th>\n      <th>Assessor Remarks</th>\n      <th>OPM remarks</th>\n      <th>Location</th>\n    </tr>\n  </thead>\n  <tbody>\n    <tr>\n      <th>0</th>\n      <td>2020177</td>\n      <td>2020</td>\n      <td>04/14/2021</td>\n      <td>Ansonia</td>\n      <td>323 BEAVER ST</td>\n      <td>133000.0</td>\n      <td>248400.0</td>\n      <td>0.5354</td>\n      <td>Residential</td>\n      <td>Single Family</td>\n      <td>NaN</td>\n      <td>NaN</td>\n      <td>NaN</td>\n      <td>POINT (-73.06822 41.35014)</td>\n    </tr>\n    <tr>\n      <th>1</th>\n      <td>2020225</td>\n      <td>2020</td>\n      <td>05/26/2021</td>\n      <td>Ansonia</td>\n      <td>152 JACKSON ST</td>\n      <td>110500.0</td>\n      <td>239900.0</td>\n      <td>0.4606</td>\n      <td>Residential</td>\n      <td>Three Family</td>\n      <td>NaN</td>\n      <td>NaN</td>\n      <td>NaN</td>\n      <td>NaN</td>\n    </tr>\n    <tr>\n      <th>2</th>\n      <td>2020348</td>\n      <td>2020</td>\n      <td>09/13/2021</td>\n      <td>Ansonia</td>\n      <td>230 WAKELEE AVE</td>\n      <td>150500.0</td>\n      <td>325000.0</td>\n      <td>0.4630</td>\n      <td>Commercial</td>\n      <td>NaN</td>\n      <td>NaN</td>\n      <td>NaN</td>\n      <td>NaN</td>\n      <td>NaN</td>\n    </tr>\n    <tr>\n      <th>3</th>\n      <td>2020090</td>\n      <td>2020</td>\n      <td>12/14/2020</td>\n      <td>Ansonia</td>\n      <td>57 PLATT ST</td>\n      <td>127400.0</td>\n      <td>202500.0</td>\n      <td>0.6291</td>\n      <td>Residential</td>\n      <td>Two Family</td>\n      <td>NaN</td>\n      <td>NaN</td>\n      <td>NaN</td>\n      <td>NaN</td>\n    </tr>\n    <tr>\n      <th>4</th>\n      <td>200500</td>\n      <td>2020</td>\n      <td>09/07/2021</td>\n      <td>Avon</td>\n      <td>245 NEW ROAD</td>\n      <td>217640.0</td>\n      <td>400000.0</td>\n      <td>0.5441</td>\n      <td>Residential</td>\n      <td>Single Family</td>\n      <td>NaN</td>\n      <td>NaN</td>\n      <td>NaN</td>\n      <td>NaN</td>\n    </tr>\n  </tbody>\n</table>\n</div>"
          },
          "metadata": {}
        }
      ],
      "execution_count": 1
    },
    {
      "id": "cf1a3667-71ff-49ed-9c3e-8049029ce8cb",
      "cell_type": "code",
      "source": "df.tail()",
      "metadata": {
        "trusted": true
      },
      "outputs": [
        {
          "execution_count": 2,
          "output_type": "execute_result",
          "data": {
            "text/plain": "         Serial Number  List Year Date Recorded          Town  \\\n1097624        2200073       2022    10/11/2022      Stamford   \n1097625         220369       2022    09/29/2023  Wethersfield   \n1097626        2200470       2022    01/09/2023      Stamford   \n1097627          22396       2022    09/26/2023  Old Saybrook   \n1097628         220890       2022    05/18/2023   Southington   \n\n                               Address  Assessed Value  Sale Amount  \\\n1097624           193 SADDLE HILL ROAD        483380.0     865000.0   \n1097625                     37 LUCA LN         20650.0     760857.0   \n1097626  1096 EAST MAIN STREET #16-D-1        132900.0     220000.0   \n1097627               115 SHEFFIELD ST       1099400.0    1575000.0   \n1097628              32 SOUTHINGTON AV        135860.0     330000.0   \n\n         Sales Ratio Property Type Residential Type             Non Use Code  \\\n1097624       0.5588   Residential    Single Family                      NaN   \n1097625       0.0271   Residential    Single Family  07 - Change in Property   \n1097626       0.6040   Residential            Condo                      NaN   \n1097627       0.6980   Residential    Single Family                      NaN   \n1097628       0.4117   Residential    Single Family  07 - Change in Property   \n\n                                      Assessor Remarks  \\\n1097624                                            NaN   \n1097625  NEW CONSTRUCTION - NOT COMPLETE FOR 10/1/2022   \n1097626                                            NaN   \n1097627                                            NaN   \n1097628                                            NaN   \n\n                                               OPM remarks  \\\n1097624                                                NaN   \n1097625                                                NaN   \n1097626                                                NaN   \n1097627                                                NaN   \n1097628  TOTAL RENOVATION PER MLS - SEE PREVIOUS SALE #...   \n\n                                   Location  \n1097624  POINT (-73.577612999 41.148977983)  \n1097625        POINT (-72.663607 41.712487)  \n1097626  POINT (-73.515726977 41.057837988)  \n1097627  POINT (-72.368005967 41.289124997)  \n1097628   POINT (-72.87929502 41.590926988)  ",
            "text/html": "<div>\n<style scoped>\n    .dataframe tbody tr th:only-of-type {\n        vertical-align: middle;\n    }\n\n    .dataframe tbody tr th {\n        vertical-align: top;\n    }\n\n    .dataframe thead th {\n        text-align: right;\n    }\n</style>\n<table border=\"1\" class=\"dataframe\">\n  <thead>\n    <tr style=\"text-align: right;\">\n      <th></th>\n      <th>Serial Number</th>\n      <th>List Year</th>\n      <th>Date Recorded</th>\n      <th>Town</th>\n      <th>Address</th>\n      <th>Assessed Value</th>\n      <th>Sale Amount</th>\n      <th>Sales Ratio</th>\n      <th>Property Type</th>\n      <th>Residential Type</th>\n      <th>Non Use Code</th>\n      <th>Assessor Remarks</th>\n      <th>OPM remarks</th>\n      <th>Location</th>\n    </tr>\n  </thead>\n  <tbody>\n    <tr>\n      <th>1097624</th>\n      <td>2200073</td>\n      <td>2022</td>\n      <td>10/11/2022</td>\n      <td>Stamford</td>\n      <td>193 SADDLE HILL ROAD</td>\n      <td>483380.0</td>\n      <td>865000.0</td>\n      <td>0.5588</td>\n      <td>Residential</td>\n      <td>Single Family</td>\n      <td>NaN</td>\n      <td>NaN</td>\n      <td>NaN</td>\n      <td>POINT (-73.577612999 41.148977983)</td>\n    </tr>\n    <tr>\n      <th>1097625</th>\n      <td>220369</td>\n      <td>2022</td>\n      <td>09/29/2023</td>\n      <td>Wethersfield</td>\n      <td>37 LUCA LN</td>\n      <td>20650.0</td>\n      <td>760857.0</td>\n      <td>0.0271</td>\n      <td>Residential</td>\n      <td>Single Family</td>\n      <td>07 - Change in Property</td>\n      <td>NEW CONSTRUCTION - NOT COMPLETE FOR 10/1/2022</td>\n      <td>NaN</td>\n      <td>POINT (-72.663607 41.712487)</td>\n    </tr>\n    <tr>\n      <th>1097626</th>\n      <td>2200470</td>\n      <td>2022</td>\n      <td>01/09/2023</td>\n      <td>Stamford</td>\n      <td>1096 EAST MAIN STREET #16-D-1</td>\n      <td>132900.0</td>\n      <td>220000.0</td>\n      <td>0.6040</td>\n      <td>Residential</td>\n      <td>Condo</td>\n      <td>NaN</td>\n      <td>NaN</td>\n      <td>NaN</td>\n      <td>POINT (-73.515726977 41.057837988)</td>\n    </tr>\n    <tr>\n      <th>1097627</th>\n      <td>22396</td>\n      <td>2022</td>\n      <td>09/26/2023</td>\n      <td>Old Saybrook</td>\n      <td>115 SHEFFIELD ST</td>\n      <td>1099400.0</td>\n      <td>1575000.0</td>\n      <td>0.6980</td>\n      <td>Residential</td>\n      <td>Single Family</td>\n      <td>NaN</td>\n      <td>NaN</td>\n      <td>NaN</td>\n      <td>POINT (-72.368005967 41.289124997)</td>\n    </tr>\n    <tr>\n      <th>1097628</th>\n      <td>220890</td>\n      <td>2022</td>\n      <td>05/18/2023</td>\n      <td>Southington</td>\n      <td>32 SOUTHINGTON AV</td>\n      <td>135860.0</td>\n      <td>330000.0</td>\n      <td>0.4117</td>\n      <td>Residential</td>\n      <td>Single Family</td>\n      <td>07 - Change in Property</td>\n      <td>NaN</td>\n      <td>TOTAL RENOVATION PER MLS - SEE PREVIOUS SALE #...</td>\n      <td>POINT (-72.87929502 41.590926988)</td>\n    </tr>\n  </tbody>\n</table>\n</div>"
          },
          "metadata": {}
        }
      ],
      "execution_count": 2
    },
    {
      "id": "29cab05c-87be-43b4-b431-85be88c530df",
      "cell_type": "code",
      "source": "df.columns",
      "metadata": {
        "trusted": true
      },
      "outputs": [
        {
          "execution_count": 3,
          "output_type": "execute_result",
          "data": {
            "text/plain": "Index(['Serial Number', 'List Year', 'Date Recorded', 'Town', 'Address',\n       'Assessed Value', 'Sale Amount', 'Sales Ratio', 'Property Type',\n       'Residential Type', 'Non Use Code', 'Assessor Remarks', 'OPM remarks',\n       'Location'],\n      dtype='object')"
          },
          "metadata": {}
        }
      ],
      "execution_count": 3
    },
    {
      "id": "2dd6d0ce-0888-489f-9bcf-15450e876880",
      "cell_type": "code",
      "source": "df.dtypes",
      "metadata": {
        "trusted": true
      },
      "outputs": [
        {
          "execution_count": 4,
          "output_type": "execute_result",
          "data": {
            "text/plain": "Serial Number         int64\nList Year             int64\nDate Recorded        object\nTown                 object\nAddress              object\nAssessed Value      float64\nSale Amount         float64\nSales Ratio         float64\nProperty Type        object\nResidential Type     object\nNon Use Code         object\nAssessor Remarks     object\nOPM remarks          object\nLocation             object\ndtype: object"
          },
          "metadata": {}
        }
      ],
      "execution_count": 4
    },
    {
      "id": "833d768d-17b5-4934-a4ef-255d291a9f7f",
      "cell_type": "code",
      "source": "df.describe()",
      "metadata": {
        "trusted": true
      },
      "outputs": [
        {
          "execution_count": 5,
          "output_type": "execute_result",
          "data": {
            "text/plain": "       Serial Number     List Year  Assessed Value   Sale Amount   Sales Ratio\ncount   1.097629e+06  1.097629e+06    1.097629e+06  1.097629e+06  1.097629e+06\nmean    5.370357e+05  2.011218e+03    2.818016e+05  4.053146e+05  9.603926e+00\nstd     7.526074e+06  6.773485e+00    1.657890e+06  5.143492e+06  1.801664e+03\nmin     0.000000e+00  2.001000e+03    0.000000e+00  0.000000e+00  0.000000e+00\n25%     3.071300e+04  2.005000e+03    8.909000e+04  1.450000e+05  4.778667e-01\n50%     8.070600e+04  2.011000e+03    1.405800e+05  2.330000e+05  6.105663e-01\n75%     1.703410e+05  2.018000e+03    2.282700e+05  3.750000e+05  7.707200e-01\nmax     2.000500e+09  2.022000e+03    8.815100e+08  5.000000e+09  1.226420e+06",
            "text/html": "<div>\n<style scoped>\n    .dataframe tbody tr th:only-of-type {\n        vertical-align: middle;\n    }\n\n    .dataframe tbody tr th {\n        vertical-align: top;\n    }\n\n    .dataframe thead th {\n        text-align: right;\n    }\n</style>\n<table border=\"1\" class=\"dataframe\">\n  <thead>\n    <tr style=\"text-align: right;\">\n      <th></th>\n      <th>Serial Number</th>\n      <th>List Year</th>\n      <th>Assessed Value</th>\n      <th>Sale Amount</th>\n      <th>Sales Ratio</th>\n    </tr>\n  </thead>\n  <tbody>\n    <tr>\n      <th>count</th>\n      <td>1.097629e+06</td>\n      <td>1.097629e+06</td>\n      <td>1.097629e+06</td>\n      <td>1.097629e+06</td>\n      <td>1.097629e+06</td>\n    </tr>\n    <tr>\n      <th>mean</th>\n      <td>5.370357e+05</td>\n      <td>2.011218e+03</td>\n      <td>2.818016e+05</td>\n      <td>4.053146e+05</td>\n      <td>9.603926e+00</td>\n    </tr>\n    <tr>\n      <th>std</th>\n      <td>7.526074e+06</td>\n      <td>6.773485e+00</td>\n      <td>1.657890e+06</td>\n      <td>5.143492e+06</td>\n      <td>1.801664e+03</td>\n    </tr>\n    <tr>\n      <th>min</th>\n      <td>0.000000e+00</td>\n      <td>2.001000e+03</td>\n      <td>0.000000e+00</td>\n      <td>0.000000e+00</td>\n      <td>0.000000e+00</td>\n    </tr>\n    <tr>\n      <th>25%</th>\n      <td>3.071300e+04</td>\n      <td>2.005000e+03</td>\n      <td>8.909000e+04</td>\n      <td>1.450000e+05</td>\n      <td>4.778667e-01</td>\n    </tr>\n    <tr>\n      <th>50%</th>\n      <td>8.070600e+04</td>\n      <td>2.011000e+03</td>\n      <td>1.405800e+05</td>\n      <td>2.330000e+05</td>\n      <td>6.105663e-01</td>\n    </tr>\n    <tr>\n      <th>75%</th>\n      <td>1.703410e+05</td>\n      <td>2.018000e+03</td>\n      <td>2.282700e+05</td>\n      <td>3.750000e+05</td>\n      <td>7.707200e-01</td>\n    </tr>\n    <tr>\n      <th>max</th>\n      <td>2.000500e+09</td>\n      <td>2.022000e+03</td>\n      <td>8.815100e+08</td>\n      <td>5.000000e+09</td>\n      <td>1.226420e+06</td>\n    </tr>\n  </tbody>\n</table>\n</div>"
          },
          "metadata": {}
        }
      ],
      "execution_count": 5
    },
    {
      "id": "77d39d87-0678-4f3b-98bf-6e99988996a0",
      "cell_type": "code",
      "source": "df.info()",
      "metadata": {
        "trusted": true
      },
      "outputs": [
        {
          "name": "stdout",
          "output_type": "stream",
          "text": "<class 'pandas.core.frame.DataFrame'>\nRangeIndex: 1097629 entries, 0 to 1097628\nData columns (total 14 columns):\n #   Column            Non-Null Count    Dtype  \n---  ------            --------------    -----  \n 0   Serial Number     1097629 non-null  int64  \n 1   List Year         1097629 non-null  int64  \n 2   Date Recorded     1097627 non-null  object \n 3   Town              1097629 non-null  object \n 4   Address           1097578 non-null  object \n 5   Assessed Value    1097629 non-null  float64\n 6   Sale Amount       1097629 non-null  float64\n 7   Sales Ratio       1097629 non-null  float64\n 8   Property Type     715183 non-null   object \n 9   Residential Type  699240 non-null   object \n 10  Non Use Code      313451 non-null   object \n 11  Assessor Remarks  171228 non-null   object \n 12  OPM remarks       13031 non-null    object \n 13  Location          298111 non-null   object \ndtypes: float64(3), int64(2), object(9)\nmemory usage: 79.6+ MB\n"
        }
      ],
      "execution_count": 6
    },
    {
      "id": "05a4f3e1-1186-4356-a01f-551b44c4ffa6",
      "cell_type": "code",
      "source": "",
      "metadata": {
        "trusted": true
      },
      "outputs": [],
      "execution_count": null
    }
  ]
}
