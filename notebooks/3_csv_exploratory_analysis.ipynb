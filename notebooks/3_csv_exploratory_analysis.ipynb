{
  "metadata": {
    "kernelspec": {
      "name": "python",
      "display_name": "Python (Pyodide)",
      "language": "python"
    },
    "language_info": {
      "codemirror_mode": {
        "name": "python",
        "version": 3
      },
      "file_extension": ".py",
      "mimetype": "text/x-python",
      "name": "python",
      "nbconvert_exporter": "python",
      "pygments_lexer": "ipython3",
      "version": "3.8"
    }
  },
  "nbformat_minor": 5,
  "nbformat": 4,
  "cells": [
    {
      "id": "5be7a0ae-01ba-41f7-b9e8-ddbafa6930fa",
      "cell_type": "code",
      "source": "import pandas as pd\nimport numpy as np\ndf=pd.read_csv('Cleaned_Dataset_Real_Estate_Sales_2001_2022.csv')\ndf.head()",
      "metadata": {
        "trusted": true
      },
      "outputs": [
        {
          "execution_count": 10,
          "output_type": "execute_result",
          "data": {
            "text/plain": "   Serial_Number  List_Year Date_Recorded      Town              Address  \\\n0          10514       2001    2002-03-06    Hamden         11 FURMAN RD   \n1          10061       2001    2001-11-16  Guilford       81 CORNWALL LN   \n2          10223       2001    2002-03-07  Cheshire      116 BRADFORD DR   \n3          10796       2001    2002-04-15   Bristol  371 EMMETT ST UT 44   \n4          10493       2001    2002-02-22   Milford     155 CLARK ST U C   \n\n   Assessed_Value (USD) Assessed_Value_Amount_Binned  Sale_Amount (USD)  \\\n0                 72170                          Low             139000   \n1                161770                          Low             340000   \n2                 94360                          Low             166000   \n3                 30240                          Low              68900   \n4                 65940                          Low             169900   \n\n  Sales_Amount_Binned  Sales_Ratio  Sales_Ratio_%  Increase_% Property_Type  \\\n0                 Low         0.52          51.92       92.60   Residential   \n1                 Low         0.48          47.58      110.17   Residential   \n2                 Low         0.57          56.84       75.92   Residential   \n3                 Low         0.44          43.89      127.84   Residential   \n4                 Low         0.39          38.81      157.66   Residential   \n\n  Residential_Type  \n0    Single Family  \n1    Single Family  \n2    Single Family  \n3    Single Family  \n4    Single Family  ",
            "text/html": "<div>\n<style scoped>\n    .dataframe tbody tr th:only-of-type {\n        vertical-align: middle;\n    }\n\n    .dataframe tbody tr th {\n        vertical-align: top;\n    }\n\n    .dataframe thead th {\n        text-align: right;\n    }\n</style>\n<table border=\"1\" class=\"dataframe\">\n  <thead>\n    <tr style=\"text-align: right;\">\n      <th></th>\n      <th>Serial_Number</th>\n      <th>List_Year</th>\n      <th>Date_Recorded</th>\n      <th>Town</th>\n      <th>Address</th>\n      <th>Assessed_Value (USD)</th>\n      <th>Assessed_Value_Amount_Binned</th>\n      <th>Sale_Amount (USD)</th>\n      <th>Sales_Amount_Binned</th>\n      <th>Sales_Ratio</th>\n      <th>Sales_Ratio_%</th>\n      <th>Increase_%</th>\n      <th>Property_Type</th>\n      <th>Residential_Type</th>\n    </tr>\n  </thead>\n  <tbody>\n    <tr>\n      <th>0</th>\n      <td>10514</td>\n      <td>2001</td>\n      <td>2002-03-06</td>\n      <td>Hamden</td>\n      <td>11 FURMAN RD</td>\n      <td>72170</td>\n      <td>Low</td>\n      <td>139000</td>\n      <td>Low</td>\n      <td>0.52</td>\n      <td>51.92</td>\n      <td>92.60</td>\n      <td>Residential</td>\n      <td>Single Family</td>\n    </tr>\n    <tr>\n      <th>1</th>\n      <td>10061</td>\n      <td>2001</td>\n      <td>2001-11-16</td>\n      <td>Guilford</td>\n      <td>81 CORNWALL LN</td>\n      <td>161770</td>\n      <td>Low</td>\n      <td>340000</td>\n      <td>Low</td>\n      <td>0.48</td>\n      <td>47.58</td>\n      <td>110.17</td>\n      <td>Residential</td>\n      <td>Single Family</td>\n    </tr>\n    <tr>\n      <th>2</th>\n      <td>10223</td>\n      <td>2001</td>\n      <td>2002-03-07</td>\n      <td>Cheshire</td>\n      <td>116 BRADFORD DR</td>\n      <td>94360</td>\n      <td>Low</td>\n      <td>166000</td>\n      <td>Low</td>\n      <td>0.57</td>\n      <td>56.84</td>\n      <td>75.92</td>\n      <td>Residential</td>\n      <td>Single Family</td>\n    </tr>\n    <tr>\n      <th>3</th>\n      <td>10796</td>\n      <td>2001</td>\n      <td>2002-04-15</td>\n      <td>Bristol</td>\n      <td>371 EMMETT ST UT 44</td>\n      <td>30240</td>\n      <td>Low</td>\n      <td>68900</td>\n      <td>Low</td>\n      <td>0.44</td>\n      <td>43.89</td>\n      <td>127.84</td>\n      <td>Residential</td>\n      <td>Single Family</td>\n    </tr>\n    <tr>\n      <th>4</th>\n      <td>10493</td>\n      <td>2001</td>\n      <td>2002-02-22</td>\n      <td>Milford</td>\n      <td>155 CLARK ST U C</td>\n      <td>65940</td>\n      <td>Low</td>\n      <td>169900</td>\n      <td>Low</td>\n      <td>0.39</td>\n      <td>38.81</td>\n      <td>157.66</td>\n      <td>Residential</td>\n      <td>Single Family</td>\n    </tr>\n  </tbody>\n</table>\n</div>"
          },
          "metadata": {}
        }
      ],
      "execution_count": 10
    },
    {
      "id": "125cdba2-6094-4ade-8a1a-601765c78c6b",
      "cell_type": "code",
      "source": "# Exploratory Data Analysis (EDA)\n\n# Most and least expensive towns\ndef get_expensive_towns(df):\n    avg_prices = df.groupby('Town')['Sale_Amount (USD)'].mean()\n    most_expensive = avg_prices.idxmax(), avg_prices.max()\n    least_expensive = avg_prices.idxmin(), avg_prices.min()\n    return most_expensive, least_expensive",
      "metadata": {
        "trusted": true
      },
      "outputs": [],
      "execution_count": 18
    },
    {
      "id": "7bbc5a14-b6df-4b26-8476-f4253d0cb548",
      "cell_type": "code",
      "source": "# Property prices by year\ndef property_prices_by_year(df):\n    return df.groupby('List_Year')['Sale_Amount (USD)'].mean()",
      "metadata": {
        "trusted": true
      },
      "outputs": [],
      "execution_count": 19
    },
    {
      "id": "ea15ce6a-2bfb-4cde-b1a2-fd541dd1eb4c",
      "cell_type": "code",
      "source": "# Correlation between assessed value and sale price\ndef assessed_vs_sale_correlation(df):\n    return df[['Assessed_Value (USD)', 'Sale_Amount (USD)']].corr()",
      "metadata": {
        "trusted": true
      },
      "outputs": [],
      "execution_count": 20
    },
    {
      "id": "528be2d0-2626-4658-8f88-f31e8d7344bc",
      "cell_type": "code",
      "source": "# Function to check if certain property types are more expensive\ndef property_type_prices(df):\n    return df.groupby('Property_Type')['Sale_Amount (USD)'].mean()",
      "metadata": {
        "trusted": true
      },
      "outputs": [],
      "execution_count": 21
    },
    {
      "id": "544c0d88-90aa-403c-a8bd-97210e6676f3",
      "cell_type": "code",
      "source": "# Towns with the most transactions\ndef top_transaction_towns(df, n=10):\n    return df['Town'].value_counts().head(n)",
      "metadata": {
        "trusted": true
      },
      "outputs": [],
      "execution_count": 22
    },
    {
      "id": "e45428e9-a8c7-46ee-8567-8da5f08800f1",
      "cell_type": "code",
      "source": "# Top N towns by average sale price\ndef top_n_towns_by_price(df, n=10):\n    return df.groupby('Town')['Sale_Amount (USD)'].mean().nlargest(n)",
      "metadata": {
        "trusted": true
      },
      "outputs": [],
      "execution_count": 23
    },
    {
      "id": "e50223fd-7924-4b7d-bf39-58ea1c4aba1b",
      "cell_type": "code",
      "source": "#Results (Visualizations are present in the final Tableau report)\n\n#Insight 1: The most expensive town is Greenwich (the last insight explains the dynamic in the city) while the least costly is Stafford\nprint(\"Most and Least Expensive Towns:\", get_expensive_towns(df))\nprint('')\n\n#Insight 2: We can observe the noticeable trend of prices increasing over the given period, starting from 246K in 2001 to 558K in 2022. \n# Yet, in some years we can see the value decreasing compared to the previous year. For instance, in 2005 the property value was lower while in 2006 it was significantly higher. \n# It could suggest that the real estate market experienced some major fluctuations. However, recent years have faced a profound jump in value. \n# For instance, 2020 had a significant increase, which could be explained by changes in property characteristics or external economic factors.\nprint(\"Property Prices by Year:\", property_prices_by_year(df))\nprint('')\n\n#Insight 3: We can observe a moderate positive correlation between assessed value and sale amount of properties of approximately 0.45. \n# This means, that properties with higher asset value led to sales for higher prices. While the correlation is overall positive, it is not perfect, \n# meaning that other factors could influence the establishment of sale prices. \nprint(\"Assessed vs Sale Price Correlation:\", assessed_vs_sale_correlation(df))\nprint('')\n\n#Insight 4: We can see that apartments stand out as the most expensive property type. \n#This can happen due to the separation of buildings into units and the generation of rental income or locations that are in high demand. \n#Likewise, commercial and industrial properties are the next most expensive types due to the high demand for office buildings, factories and warehouses. \n#Those types of properties attract high investments from bigger corporations intending to get a high return on investment. \n#Following that, we have vacant lands that are significantly lower, yet good in value due to the potential of area growth and development. \n#Lastly, we have public utilities and residential properties. Residential properties including condos, single-family parcels or townhouses, \n#can be lower in price compared to commercial properties due to slow return on investment and high supply of similar properties in one area. \n#All this can establish the lower value for residential complexes. On the other hand, public utilities, such as power stations, \n#are controlled by the governments and may have lower fixed pricing.\nprint(\"Property Type Prices:\", property_type_prices(df))\nprint('')\n\n\n#Insight 5: At this stage, we can see that the top towns with the highest transactions are Bridgeport, Stamford and Waterbury. \n#This can be due to larger populations or more active real estate markets in these areas. For realtors or investors, focusing on these towns could provide opportunities, \n#as the high volume of transactions might indicate robust market dynamics.\nprint(\"Top Transaction Towns:\", top_transaction_towns(df))\nprint('')\n\n#Insight 6: The top towns by price result is a snapshot of the most expensive towns in the United States. \n#We can note that Greenwich, Darien and New Canaan are listed as the most expensive towns, evaluated by average prices on properties for the given period, \n#ranging from 1.5M to 2M USD. This can be explained by the concentration of luxury housing, better infrastructure, school quality, \n#and overall high standard of living that determine the property pricing for these towns. For investors, understanding the potential buyers and pricing dynamic can suggest \n#a high return on investments. For buyers, this snapshot could suggest further analysis of the areas, negotiation plans and investment decisions. \nprint('Top N towns by price:', top_n_towns_by_price(df))",
      "metadata": {
        "trusted": true
      },
      "outputs": [
        {
          "name": "stdout",
          "output_type": "stream",
          "text": "Most and Least Expensive Towns: (('Greenwich', np.float64(2108254.5305732833)), ('Stafford', np.float64(150096.02977082887)))\n\nProperty Prices by Year: List_Year\n2001    246246.531302\n2002    296337.444418\n2003    327248.144003\n2004    380318.537639\n2005    364033.519375\n2006    475413.801279\n2007    435713.379734\n2008    325831.792393\n2009    355250.327162\n2010    331685.771606\n2011    391689.525625\n2012    395497.787917\n2013    413551.308528\n2014    401439.427718\n2015    345895.038523\n2016    445211.158753\n2017    393174.120108\n2018    383730.929339\n2019    420312.144958\n2020    529750.873866\n2021    536980.767448\n2022    557731.490004\nName: Sale_Amount (USD), dtype: float64\n\nAssessed vs Sale Price Correlation:                       Assessed_Value (USD)  Sale_Amount (USD)\nAssessed_Value (USD)              1.000000           0.446752\nSale_Amount (USD)                 0.446752           1.000000\n\nProperty Type Prices: Property_Type\nApartments        2.947209e+06\nCommercial        1.677886e+06\nIndustrial        2.238045e+06\nPublic Utility    2.136044e+05\nResidential       3.862228e+05\nVacant Land       4.168054e+05\nName: Sale_Amount (USD), dtype: float64\n\nTop Transaction Towns: Town\nBridgeport       38154\nStamford         36629\nWaterbury        32659\nNorwalk          26936\nNew Haven        23705\nWest Hartford    22103\nDanbury          21918\nHartford         19777\nStratford        18807\nMilford          18572\nName: count, dtype: int64\n\nTop N towns by price: Town\nGreenwich     2.108255e+06\nDarien        1.600003e+06\nNew Canaan    1.544927e+06\nWestport      1.480955e+06\nWeston        9.648373e+05\nWilton        9.198097e+05\nWashington    8.749252e+05\nStamford      8.184205e+05\nRidgefield    7.492872e+05\nRoxbury       7.452278e+05\nName: Sale_Amount (USD), dtype: float64\n"
        }
      ],
      "execution_count": 28
    },
    {
      "id": "550c382a-6562-487f-8c17-ac058c53ee0c",
      "cell_type": "code",
      "source": "",
      "metadata": {
        "trusted": true
      },
      "outputs": [],
      "execution_count": null
    }
  ]
}
